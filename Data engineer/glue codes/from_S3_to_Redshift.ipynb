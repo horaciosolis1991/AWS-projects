{
	"metadata": {
		"kernelspec": {
			"name": "glue_pyspark",
			"display_name": "Glue PySpark",
			"language": "python"
		},
		"language_info": {
			"name": "Python_Glue_Session",
			"mimetype": "text/x-python",
			"codemirror_mode": {
				"name": "python",
				"version": 3
			},
			"pygments_lexer": "python3",
			"file_extension": ".py"
		}
	},
	"nbformat_minor": 4,
	"nbformat": 4,
	"cells": [
		{
			"cell_type": "markdown",
			"source": "\n# Glue Studio Notebook\nYou are now running a **Glue Studio** notebook; before you can start using your notebook you *must* start an interactive session.\n\n## Available Magics\n|          Magic              |   Type       |                                                                        Description                                                                        |\n|-----------------------------|--------------|-----------------------------------------------------------------------------------------------------------------------------------------------------------|\n| %%configure                 |  Dictionary  |  A json-formatted dictionary consisting of all configuration parameters for a session. Each parameter can be specified here or through individual magics. |\n| %profile                    |  String      |  Specify a profile in your aws configuration to use as the credentials provider.                                                                          |\n| %iam_role                   |  String      |  Specify an IAM role to execute your session with.                                                                                                        |\n| %region                     |  String      |  Specify the AWS region in which to initialize a session.                                                                                                 |\n| %session_id                 |  String      |  Returns the session ID for the running session.                                                                                                          |\n| %connections                |  List        |  Specify a comma separated list of connections to use in the session.                                                                                     |\n| %additional_python_modules  |  List        |  Comma separated list of pip packages, s3 paths or private pip arguments.                                                                                 |\n| %extra_py_files             |  List        |  Comma separated list of additional Python files from S3.                                                                                                 |\n| %extra_jars                 |  List        |  Comma separated list of additional Jars to include in the cluster.                                                                                       |\n| %number_of_workers          |  Integer     |  The number of workers of a defined worker_type that are allocated when a job runs. worker_type must be set too.                                          |\n| %glue_version               |  String      |  The version of Glue to be used by this session. Currently, the only valid options are 2.0 and 3.0 (eg: %glue_version 2.0).                               |\n| %security_config            |  String      |  Define a security configuration to be used with this session.                                                                                            |\n| %sql                        |  String      |  Run SQL code. All lines after the initial %%sql magic will be passed as part of the SQL code.                                                            |\n| %streaming                  |  String      |  Changes the session type to Glue Streaming.                                                                                                              |\n| %etl                        |  String      |  Changes the session type to Glue ETL.                                                                                                                    |\n| %status                     |              |  Returns the status of the current Glue session including its duration, configuration and executing user / role.                                          |\n| %stop_session               |              |  Stops the current session.                                                                                                                               |\n| %list_sessions              |              |  Lists all currently running sessions by name and ID.                                                                                                     |\n| %worker_type                |  String      |  Standard, G.1X, *or* G.2X. number_of_workers must be set too. Default is G.1X.                                                                           |\n| %spark_conf                 |  String      |  Specify custom spark configurations for your session. E.g. %spark_conf spark.serializer=org.apache.spark.serializer.KryoSerializer.                      |",
			"metadata": {
				"editable": false,
				"deletable": false,
				"tags": [],
				"trusted": true
			}
		},
		{
			"cell_type": "markdown",
			"source": "## STEPS\n\n### 1- Upload data to S3\n### 2- Create glue connector pointing to redshift cluster\n### 3- Grant role with policies to glue ( Passrole, GlueServiceRole, s3 access)\n### 4- Add job bookmarks and schedule the script\n\n",
			"metadata": {}
		},
		{
			"cell_type": "code",
			"source": "%glue_version 3.0\n%number_of_workers 3\n%worker_type G.1X\n%idle_timeout 60\n%connections redshift_tutorial_connector\n%%configure\n{\n    \"--job-bookmark-option\": \"job-bookmark-enable\"\n}",
			"metadata": {
				"trusted": true
			},
			"execution_count": 7,
			"outputs": [
				{
					"name": "stdout",
					"text": "Welcome to the Glue Interactive Sessions Kernel\nFor more information on available magic commands, please type %help in any new cell.\n\nPlease view our Getting Started page to access the most up-to-date information on the Interactive Sessions kernel: https://docs.aws.amazon.com/glue/latest/dg/interactive-sessions.html\nInstalled kernel version: 0.37.0 \nSetting Glue version to: 3.0\nPrevious number of workers: 5\nSetting new number of workers to: 3\nPrevious worker type: G.1X\nSetting new worker type to: G.1X\nCurrent idle_timeout is 2880 minutes.\nidle_timeout has been set to 60 minutes.\nConnections to be included:\nredshift_tutorial_connector\nThe following configurations have been updated: {'--job-bookmark-option': 'job-bookmark-enable'}\n",
					"output_type": "stream"
				}
			]
		},
		{
			"cell_type": "code",
			"source": "import sys\nfrom awsglue.transforms import *\nfrom awsglue.utils import getResolvedOptions\nfrom pyspark.context import SparkContext\nfrom awsglue.context import GlueContext\nfrom awsglue.job import Job\n\nsc = SparkContext.getOrCreate()\nglueContext = GlueContext(sc)\nspark = glueContext.spark_session\njob = Job(glueContext)",
			"metadata": {
				"editable": true,
				"trusted": true
			},
			"execution_count": 2,
			"outputs": [
				{
					"name": "stdout",
					"text": "\n",
					"output_type": "stream"
				}
			]
		},
		{
			"cell_type": "code",
			"source": "params = []\nif '--JOB_NAME' in sys.argv:\n    params.append('JOB_NAME')\nargs = getResolvedOptions(sys.argv, params)\nif 'JOB_NAME' in args:\n    jobname = args['JOB_NAME']\nelse:\n    jobname = \"glue_redshift_tutorial_job\"\njob.init(jobname, args)",
			"metadata": {
				"trusted": true
			},
			"execution_count": 3,
			"outputs": [
				{
					"name": "stdout",
					"text": "\n",
					"output_type": "stream"
				}
			]
		},
		{
			"cell_type": "code",
			"source": "nyc_taxi_trip_input_dyf = glueContext.create_dynamic_frame.from_options(\n    connection_type = \"s3\", \n    connection_options = {\n        \"paths\": [\"s3://redshift-tutorial-datasets/Glue_data/taxi/yellow_tripdata_2022-01.parquet\"]\n    }, \n    format = \"parquet\",\n    transformation_ctx = \"nyc_taxi_trip_input_dyf\"\n)\n\nnyc_taxi_zone_lookup_dyf = glueContext.create_dynamic_frame.from_options(\n    connection_type = \"s3\", \n    connection_options = {\n        \"paths\": [\"s3://redshift-tutorial-datasets/Glue_data/lookup/taxi+_zone_lookup.csv\"]\n    }, \n    format = \"csv\",\n    format_options= {\n        'withHeader': True\n    },\n    transformation_ctx = \"nyc_taxi_zone_lookup_dyf\"\n)",
			"metadata": {
				"tags": [],
				"trusted": true
			},
			"execution_count": 4,
			"outputs": [
				{
					"name": "stdout",
					"text": "\n",
					"output_type": "stream"
				}
			]
		},
		{
			"cell_type": "code",
			"source": "nyc_taxi_trip_apply_mapping_dyf = ApplyMapping.apply(\n    frame = nyc_taxi_trip_input_dyf, \n    mappings = [\n        (\"VendorID\",\"Long\",\"VendorID\",\"Integer\"), \n        (\"tpep_pickup_datetime\",\"Timestamp\",\"tpep_pickup_datetime\",\"Timestamp\"), \n        (\"tpep_dropoff_datetime\",\"Timestamp\",\"tpep_dropoff_datetime\",\"Timestamp\"), \n        (\"passenger_count\",\"Double\",\"passenger_count\",\"Integer\"), \n        (\"trip_distance\",\"Double\",\"trip_distance\",\"Double\"),\n        (\"RatecodeID\",\"Double\",\"RatecodeID\",\"Integer\"), \n        (\"store_and_fwd_flag\",\"String\",\"store_and_fwd_flag\",\"String\"), \n        (\"PULocationID\",\"Long\",\"PULocationID\",\"Integer\"), \n        (\"DOLocationID\",\"Long\",\"DOLocationID\",\"Integer\"),\n        (\"payment_type\",\"Long\",\"payment_type\",\"Integer\"), \n        (\"fare_amount\",\"Double\",\"fare_amount\",\"Double\"),\n        (\"extra\",\"Double\",\"extra\",\"Double\"), \n        (\"mta_tax\",\"Double\",\"mta_tax\",\"Double\"),\n        (\"tip_amount\",\"Double\",\"tip_amount\",\"Double\"), \n        (\"tolls_amount\",\"Double\",\"tolls_amount\",\"Double\"), \n        (\"improvement_surcharge\",\"Double\",\"improvement_surcharge\",\"Double\"), \n        (\"total_amount\",\"Double\",\"total_amount\",\"Double\"), \n        (\"congestion_surcharge\",\"Double\",\"congestion_surcharge\",\"Double\"), \n        (\"airport_fee\",\"Double\",\"airport_fee\",\"Double\")\n    ],\n    transformation_ctx = \"nyc_taxi_trip_apply_mapping_dyf\"\n)\n\nnyc_taxi_zone_lookup_dyf = glueContext.create_dynamic_frame.from_options(\n    connection_type = \"s3\", \n    connection_options = {\n        \"paths\": [\"s3://redshift-tutorial-datasets/Glue_data/lookup/taxi+_zone_lookup.csv\"]\n    }, \n    format = \"csv\",\n    format_options= {\n        'withHeader': True\n    },\n    transformation_ctx = \"nyc_taxi_zone_lookup_dyf\"\n)",
			"metadata": {
				"trusted": true
			},
			"execution_count": 5,
			"outputs": [
				{
					"name": "stdout",
					"text": "\n",
					"output_type": "stream"
				}
			]
		},
		{
			"cell_type": "code",
			"source": "def trip_duration(start_timestamp,end_timestamp):\n    minutes_diff = (end_timestamp - start_timestamp).total_seconds() / 60.0\n    return(minutes_diff)\ndef transformRecord(rec):\n    rec[\"trip_duration\"] = trip_duration(rec[\"tpep_pickup_datetime\"], rec[\"tpep_dropoff_datetime\"])\n    return rec\nnyc_taxi_trip_final_dyf = Map.apply(\n    frame = nyc_taxi_trip_apply_mapping_dyf, \n    f = transformRecord, \n    transformation_ctx = \"nyc_taxi_trip_final_dyf\"\n)",
			"metadata": {
				"trusted": true
			},
			"execution_count": 6,
			"outputs": [
				{
					"name": "stdout",
					"text": "\n",
					"output_type": "stream"
				}
			]
		},
		{
			"cell_type": "code",
			"source": "nyc_taxi_trip_sink_dyf = glueContext.write_dynamic_frame.from_jdbc_conf(\n    frame = nyc_taxi_trip_final_dyf, \n    catalog_connection = \"redshift_tutorial_connector\", \n    connection_options =  {\"dbtable\": \"public.f_nyc_yellow_taxi_trip\",\"database\": \"dev\"}, \n    redshift_tmp_dir = \"s3://redshift-tutorial-datasets/Glue_data/temporary/\", \n    transformation_ctx = \"nyc_taxi_trip_sink_dyf\"\n)",
			"metadata": {
				"trusted": true
			},
			"execution_count": 9,
			"outputs": [
				{
					"name": "stdout",
					"text": "\n",
					"output_type": "stream"
				}
			]
		},
		{
			"cell_type": "code",
			"source": "job.commit()",
			"metadata": {
				"trusted": true
			},
			"execution_count": 10,
			"outputs": [
				{
					"name": "stdout",
					"text": "\n",
					"output_type": "stream"
				}
			]
		}
	]
}